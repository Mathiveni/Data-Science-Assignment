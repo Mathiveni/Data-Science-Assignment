{
  "nbformat": 4,
  "nbformat_minor": 0,
  "metadata": {
    "colab": {
      "provenance": []
    },
    "kernelspec": {
      "name": "python3",
      "display_name": "Python 3"
    },
    "language_info": {
      "name": "python"
    }
  },
  "cells": [
    {
      "cell_type": "code",
      "execution_count": 3,
      "metadata": {
        "id": "hBktw69BZq7A"
      },
      "outputs": [],
      "source": [
        "import numpy as np\n",
        "import random\n",
        "import matplotlib.pyplot as plt\n",
        "from matplotlib import colors"
      ]
    },
    {
      "cell_type": "code",
      "source": [
        "# Define the environment: a simple maze represented by a grid\n",
        "# 0: free space, 1: wall, 2: start point, 3: goal point\n",
        "maze = np.array([\n",
        "    [2, 1, 0, 1, 0],\n",
        "    [0, 0, 0, 0, 0],\n",
        "    [1, 0, 0, 1, 0],\n",
        "    [1, 0, 1, 0, 1],\n",
        "    [1, 0, 0, 1, 0],\n",
        "    [0, 1, 0, 0, 3]\n",
        "])"
      ],
      "metadata": {
        "id": "QVDvmFCkbUEr"
      },
      "execution_count": 4,
      "outputs": []
    },
    {
      "cell_type": "code",
      "source": [
        "# Define possible actions\n",
        "actions = ['up', 'down', 'left', 'right']"
      ],
      "metadata": {
        "id": "bdSXxKXLbqjV"
      },
      "execution_count": 5,
      "outputs": []
    },
    {
      "cell_type": "code",
      "source": [
        "# Define rewards: reaching the goal gives +100, hitting a wall gives -10, every step -1\n",
        "reward_matrix = np.zeros(maze.shape)\n",
        "reward_matrix[maze == 1] = -10  # Penalty for walls\n",
        "reward_matrix[maze == 3] = 100  # Reward for reaching the goal\n",
        "reward_matrix[maze == 0] = -1   # Penalty for each step"
      ],
      "metadata": {
        "id": "d-TpzrohbvGk"
      },
      "execution_count": 6,
      "outputs": []
    },
    {
      "cell_type": "code",
      "source": [
        "# Q-table initialization (states: positions in the maze, actions: up, down, left, right)\n",
        "q_table = np.zeros((*maze.shape, len(actions)))"
      ],
      "metadata": {
        "id": "8lh-c1tcb4TY"
      },
      "execution_count": 7,
      "outputs": []
    },
    {
      "cell_type": "code",
      "source": [
        "# Parameters for Q-learning\n",
        "alpha = 0.1   # Learning rate\n",
        "gamma = 0.9   # Discount factor\n",
        "epsilon = 1.0 # Starting exploration rate\n",
        "min_epsilon = 0.01 # Minimum exploration rate\n",
        "decay_rate = 0.995 # Decay rate for epsilon\n",
        "episodes = 5000    # Increase episodes for better learning\n",
        "max_steps = 100    # Max steps per episode"
      ],
      "metadata": {
        "id": "kpUPaLs3b7iv"
      },
      "execution_count": 8,
      "outputs": []
    },
    {
      "cell_type": "code",
      "source": [
        "# Helper function to get the next position given an action\n",
        "def get_next_position(current_position, action):\n",
        "    row, col = current_position\n",
        "    if action == 'up' and row > 0:\n",
        "        row -= 1\n",
        "    elif action == 'down' and row < maze.shape[0] - 1:\n",
        "        row += 1\n",
        "    elif action == 'left' and col > 0:\n",
        "        col -= 1\n",
        "    elif action == 'right' and col < maze.shape[1] - 1:\n",
        "        col += 1\n",
        "    # Return the next valid position\n",
        "    if maze[row, col] == 1:  # If the new position is a wall, stay in the current position\n",
        "        return current_position\n",
        "    return (row, col)"
      ],
      "metadata": {
        "id": "KEUHn9_nb_22"
      },
      "execution_count": 9,
      "outputs": []
    },
    {
      "cell_type": "code",
      "source": [
        "# Q-learning algorithm\n",
        "for episode in range(episodes):\n",
        "    position = np.argwhere(maze == 2)[0]  # Start at the start point\n",
        "    steps = 0\n",
        "\n",
        "    for _ in range(max_steps):\n",
        "        # Choose action (explore or exploit)\n",
        "        if random.uniform(0, 1) < epsilon:\n",
        "            action_idx = random.randint(0, len(actions) - 1)  # Explore\n",
        "        else:\n",
        "            action_idx = np.argmax(q_table[position[0], position[1]])  # Exploit\n",
        "\n",
        "        action = actions[action_idx]\n",
        "        new_position = get_next_position(position, action)\n",
        "\n",
        "        # Get reward and update Q-table\n",
        "        reward = reward_matrix[new_position[0], new_position[1]]\n",
        "        old_value = q_table[position[0], position[1], action_idx]\n",
        "        next_max = np.max(q_table[new_position[0], new_position[1]])\n",
        "\n",
        "        # Q-learning update rule\n",
        "        q_table[position[0], position[1], action_idx] = old_value + alpha * (reward + gamma * next_max - old_value)\n",
        "\n",
        "        # Move to the new position\n",
        "        position = new_position\n",
        "\n",
        "        steps += 1\n",
        "        if maze[position[0], position[1]] == 3:  # Goal reached\n",
        "            break\n",
        "\n",
        "    # Decay epsilon (reduce exploration over time but maintain some exploration)\n",
        "    epsilon = max(min_epsilon, epsilon * decay_rate)"
      ],
      "metadata": {
        "id": "sztK2USccJNs"
      },
      "execution_count": 10,
      "outputs": []
    },
    {
      "cell_type": "code",
      "source": [
        "# Find the optimal path from start to goal\n",
        "optimal_path = []\n",
        "position = np.argwhere(maze == 2)[0]  # Start point\n",
        "\n",
        "while maze[position[0], position[1]] != 3:  # Until goal is reached\n",
        "    optimal_path.append(tuple(position))\n",
        "    best_action_idx = np.argmax(q_table[position[0], position[1]])\n",
        "    action = actions[best_action_idx]\n",
        "    position = get_next_position(position, action)\n",
        "optimal_path.append(tuple(position))  # Append the goal position"
      ],
      "metadata": {
        "id": "lPzVf1nBcKgP"
      },
      "execution_count": 11,
      "outputs": []
    },
    {
      "cell_type": "code",
      "source": [
        "# Visualize the Q-learning results and highlight the optimal path\n",
        "fig, ax = plt.subplots()\n",
        "\n",
        "# Create a color map: white for free space, black for walls, green for the optimal path, red for start/goal\n",
        "cmap = colors.ListedColormap(['white', 'black', 'green', 'red'])\n",
        "bounds = [-1, 0.5, 1.5, 2.5, 3.5]\n",
        "norm = colors.BoundaryNorm(bounds, cmap.N)\n",
        "\n",
        "# Prepare the maze with start and goal marked as 2 and 3\n",
        "maze_map = np.copy(maze)\n",
        "for pos in optimal_path:\n",
        "    maze_map[pos] = 2 if maze[pos] == 2 else 2.5  # Use 2.5 for the path\n",
        "\n",
        "ax.imshow(maze_map, cmap=cmap, norm=norm)\n",
        "\n",
        "# Annotate directions on the grid\n",
        "for i in range(maze.shape[0]):\n",
        "    for j in range(maze.shape[1]):\n",
        "        if maze[i, j] == 1:  # Wall\n",
        "            continue\n",
        "        if maze[i, j] == 2:  # Start\n",
        "            ax.text(j, i, 'S', ha='center', va='center', color='red', fontsize=12)\n",
        "        elif maze[i, j] == 3:  # Goal\n",
        "            ax.text(j, i, 'G', ha='center', va='center', color='red', fontsize=12)\n",
        "        else:\n",
        "            best_action_idx = np.argmax(q_table[i, j])\n",
        "            direction = actions[best_action_idx][0].upper()  # First letter of best action\n",
        "            ax.text(j, i, direction, ha='center', va='center', color='blue', fontsize=12)\n",
        "\n",
        "plt.title(\"Optimal Path (Green) with Start (S) and Goal (G)\")\n",
        "plt.show()\n"
      ],
      "metadata": {
        "colab": {
          "base_uri": "https://localhost:8080/",
          "height": 452
        },
        "id": "3QuQkfCMcPBF",
        "outputId": "c4cf07db-68f2-4762-d8ed-dee19dc776e4"
      },
      "execution_count": 12,
      "outputs": [
        {
          "output_type": "display_data",
          "data": {
            "text/plain": [
              "<Figure size 640x480 with 1 Axes>"
            ],
            "image/png": "[encoded data removed]"
          },
          "metadata": {}
        }
      ]
    }
  ]
}